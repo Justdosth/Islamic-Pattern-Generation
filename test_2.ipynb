{
  "nbformat": 4,
  "nbformat_minor": 0,
  "metadata": {
    "accelerator": "GPU",
    "colab": {
      "name": "fatemeh_taher_iranmanesh_5.ipynb",
      "provenance": [],
      "collapsed_sections": []
    },
    "kernelspec": {
      "display_name": "Python 3",
      "language": "python",
      "name": "python3"
    },
    "language_info": {
      "codemirror_mode": {
        "name": "ipython",
        "version": 3
      },
      "file_extension": ".py",
      "mimetype": "text/x-python",
      "name": "python",
      "nbconvert_exporter": "python",
      "pygments_lexer": "ipython3",
      "version": "3.6.9"
    }
  },
  "cells": [
    {
      "cell_type": "code",
      "metadata": {
        "id": "jUpHVrNzwh8h"
      },
      "source": [
        "!nvidia-smi"
      ],
      "execution_count": null,
      "outputs": []
    },
    {
      "cell_type": "code",
      "metadata": {
        "id": "sQRkYVB1uHkV",
        "scrolled": true
      },
      "source": [
        "!unzip '/content/7_images175.zip'"
      ],
      "execution_count": null,
      "outputs": []
    },
    {
      "cell_type": "code",
      "metadata": {
        "id": "B3C8-af5Tyec"
      },
      "source": [
        "import matplotlib.pyplot as plt\n",
        "import numpy as np\n",
        "\n",
        "import cv2\n",
        "import os\n",
        "import PIL\n",
        "import tensorflow as tf\n",
        "\n",
        "from tensorflow import keras\n",
        "from tensorflow.keras import layers\n",
        "from tensorflow.keras.models import Sequential\n",
        "\n",
        "from keras.datasets import mnist\n",
        "from keras.layers import Dense,Flatten,Reshape\n",
        "from keras.layers.experimental import preprocessing as lep\n",
        "from keras.layers.advanced_activations import LeakyReLU\n",
        "from keras.models import Sequential\n",
        "from keras.optimizers import Adam\n"
      ],
      "execution_count": 2,
      "outputs": []
    },
    {
      "cell_type": "code",
      "metadata": {
        "id": "sEuVk0TvuNEJ"
      },
      "source": [
        "path = \"/content/images175/\"\n",
        "\n",
        "training_data = []\n",
        "for img in os.listdir(path):\n",
        "    pic = cv2.imread(os.path.join(path,img) , cv2.IMREAD_GRAYSCALE)\n",
        "    try:\n",
        "        pic = cv2.resize(pic,(180,180))\n",
        "        training_data.append(pic)\n",
        "    except:\n",
        "        continue\n",
        "    \n",
        "X_train = np.array([training_data[0]])\n",
        "for i in range(1,len(training_data)):\n",
        "  X_train = np.append(X_train, [training_data[i]], axis=0)"
      ],
      "execution_count": 3,
      "outputs": []
    },
    {
      "cell_type": "code",
      "metadata": {
        "id": "4YqFExWpQLg4"
      },
      "source": [
        "img_rows=180\n",
        "img_cols=180\n",
        "channels=1"
      ],
      "execution_count": 4,
      "outputs": []
    },
    {
      "cell_type": "code",
      "metadata": {
        "id": "Hzhvl6zvf5Hw"
      },
      "source": [
        "img_shape = (img_rows,img_cols,channels)\n",
        "\n",
        "zdim=100\n",
        "\n",
        "def build_gen(img_shape,zdim):\n",
        "    model = Sequential()\n",
        "    model.add(Dense(128,input_dim=zdim))\n",
        "    model.add(LeakyReLU(alpha=0.01))\n",
        "    model.add(Dense(img_rows*img_cols*1,activation='tanh'))\n",
        "    model.add(Reshape(img_shape))\n",
        "    return model\n",
        "\n",
        "def build_dis(img_shape):\n",
        "    model=Sequential()\n",
        "    #model.add(data_augmentation)\n",
        "    model.add(lep.RandomFlip(\"horizontal\",input_shape=img_shape))\n",
        "    model.add(lep.RandomRotation(0.1))\n",
        "    model.add(lep.RandomZoom(0.1))\n",
        "    model.add(lep.RandomRotation(0.3))\n",
        "    model.add(lep.RandomFlip(\"vertical\",input_shape=img_shape))\n",
        "    model.add(Flatten(input_shape=img_shape))\n",
        "    model.add(Dense(128))\n",
        "    model.add(LeakyReLU(alpha=0.01))\n",
        "    model.add(Dense(1,activation='sigmoid'))\n",
        "    return model\n",
        "\n",
        "def build_gan(gen,dis):\n",
        "    model = Sequential()\n",
        "    model.add(gen)\n",
        "    model.add(dis)\n",
        "    return model\n",
        "\n",
        "dis_v = build_dis(img_shape)\n",
        "dis_v.compile(loss='binary_crossentropy',\n",
        "              optimizer=Adam(),\n",
        "              metrics=['accuracy'])\n",
        "\n",
        "gen_v = build_gen(img_shape,zdim)\n",
        "dis_v.trainable=False\n",
        "gan_v = build_gan(gen_v,dis_v)\n",
        "gan_v.compile(loss='binary_crossentropy',\n",
        "              optimizer=Adam()\n",
        "             )\n",
        "\n",
        "losses=[]\n",
        "accuracies=[]\n",
        "iteration_checks=[]\n",
        "\n",
        "def train(iterations,batch_size,interval):\n",
        "\n",
        "    #(Xtrain, _),(_, _) = mnist.load_data()\n",
        "    #ipdb.set_trace()\n",
        "    Xtrain = X_train\n",
        "    Xtrain = Xtrain/127.5 - 1.0\n",
        "    Xtrain = np.expand_dims(Xtrain,axis=0)\n",
        "\n",
        "    real = np.ones((batch_size,1))\n",
        "    fake = np.zeros((batch_size, 1))\n",
        "\n",
        "    for iteration in range(iterations):\n",
        "\n",
        "        ids = np.random.randint(0,Xtrain.shape[0],batch_size)\n",
        "        imgs = Xtrain[ids]\n",
        "\n",
        "        z=np.random.normal(0,1,(batch_size,100))\n",
        "        #z = np.expand_dims(z,axis=2)\n",
        "        gen_imgs = gen_v.predict(z)\n",
        "\n",
        "        dloss_real = dis_v.train_on_batch(imgs,real)\n",
        "        dloss_fake = dis_v.train_on_batch(gen_imgs, fake)\n",
        "\n",
        "        dloss,accuracy = 0.5 * np.add(dloss_real,dloss_fake)\n",
        "\n",
        "        z = np.random.normal(0, 1, (batch_size, 100))\n",
        "        gloss = gan_v.train_on_batch(z,real)\n",
        "\n",
        "        if (iteration+1) % interval == 0:\n",
        "            losses.append((dloss,gloss))\n",
        "            accuracies.append(100.0*accuracy)\n",
        "            iteration_checks.append(iteration+1)\n",
        "            print(\"%d [D loss: %f , acc: %.2f] [G loss: %f]\" %\n",
        "                  (iteration+1,dloss,100.0*accuracy,gloss))\n",
        "            #show_images(gen_v)\n",
        "    return gen_v\n",
        "\n",
        "\n",
        "def show_images(gen):\n",
        "    z = np.random.normal(0, 1, (16, 100))\n",
        "    gen_imgs = gen.predict(z)\n",
        "    gen_imgs = 0.5*gen_imgs + 0.5\n",
        "\n",
        "    fig,axs = plt.subplots(4,4,figsize=(4,4),sharey=True,sharex=True)\n",
        "\n",
        "    cnt=0\n",
        "    for i in range(4):\n",
        "        for j in range(4):\n",
        "            axs[i, j].imshow(gen_imgs[cnt,:,:,0],cmap='gray')\n",
        "            axs[i, j].axis('off')\n",
        "            cnt+=1\n",
        "\n",
        "    fig.show()\n",
        "\n",
        "gen = train(10000,128,100)\n",
        "show_images(gen)"
      ],
      "execution_count": null,
      "outputs": []
    },
    {
      "cell_type": "code",
      "metadata": {
        "id": "R2sf3fVuwSsG"
      },
      "source": [
        "import torchvision.transforms as transforms\n",
        "import torchsample as ts\n",
        "train_tf= transforms.Compose([\n",
        "            transforms.RandomHorizontalFlip(),\n",
        "            transforms.Scale(256),\n",
        "            transforms.CenterCrop(224),\n",
        "            transforms.ToTensor(),\n",
        "            ts.transforms.Rotate(20), # data augmentation: rotation \n",
        "            ts.transforms.Rotate(-20), # data augmentation: rotation\n",
        "            transforms.Normalize([0.485, 0.456, 0.406], [0.229, 0.224, 0.225])\n",
        "        ])"
      ],
      "execution_count": null,
      "outputs": []
    },
    {
      "cell_type": "code",
      "metadata": {
        "id": "-GsLQG33MxXz"
      },
      "source": [
        "model = Sequential([\n",
        "  data_augmentation,\n",
        "  layers.Conv2D(16, 3, padding='same', activation='relu'),\n",
        "  layers.MaxPooling2D(),\n",
        "  layers.Conv2D(32, 3, padding='same', activation='relu'),\n",
        "  layers.MaxPooling2D(),\n",
        "  layers.Conv2D(64, 3, padding='same', activation='relu'),\n",
        "  layers.MaxPooling2D(),\n",
        "  layers.Dropout(0.2),\n",
        "  layers.Flatten(),\n",
        "  layers.Dense(128, activation='relu'),\n",
        "  layers.Dense(num_classes)\n",
        "])"
      ],
      "execution_count": null,
      "outputs": []
    },
    {
      "cell_type": "code",
      "metadata": {
        "id": "mXlQTH0GrDqx"
      },
      "source": [
        "model = Sequential()\n",
        "    data_augmentation\n",
        "    model.add(Dense(128,input_dim=zdim))\n",
        "    model.add(LeakyReLU(alpha=0.01))\n",
        "    model.add(Dense(img_rows*img_cols*1,activation='tanh'))\n",
        "    model.add(Reshape(img_shape))\n",
        "    return model"
      ],
      "execution_count": null,
      "outputs": []
    },
    {
      "cell_type": "code",
      "metadata": {
        "id": "16a0nomFrjrG"
      },
      "source": [
        "model=Sequential()\n",
        "    model.add(Flatten(input_shape=img_shape))\n",
        "    model.add(Dense(128))\n",
        "    model.add(LeakyReLU(alpha=0.01))\n",
        "    model.add(Dense(1,activation='sigmoid'))"
      ],
      "execution_count": null,
      "outputs": []
    },
    {
      "cell_type": "code",
      "metadata": {
        "colab": {
          "base_uri": "https://localhost:8080/"
        },
        "id": "WeSR7LIz_L6B",
        "outputId": "9737d75f-36fc-4f0e-cc88-66856e0a92af"
      },
      "source": [
        "from google.colab import drive\n",
        "drive.mount('/content/gdrive')"
      ],
      "execution_count": null,
      "outputs": [
        {
          "output_type": "stream",
          "text": [
            "Mounted at /content/gdrive\n"
          ],
          "name": "stdout"
        }
      ]
    }
  ]
}